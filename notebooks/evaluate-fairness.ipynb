{
 "cells": [
  {
   "cell_type": "code",
   "execution_count": 16,
   "id": "fe5fd5dd-d12d-41aa-9cb9-be5a77872329",
   "metadata": {},
   "outputs": [
    {
     "name": "stdout",
     "output_type": "stream",
     "text": [
      "working dir: /work/fairness-privacy/notebooks\n"
     ]
    }
   ],
   "source": [
    "import os\n",
    "import pdb\n",
    "print('working dir:', os.getcwd())\n",
    "\n",
    "from tqdm.notebook import tqdm\n",
    "import datasets\n",
    "import torch\n",
    "from torch.utils.data import DataLoader\n",
    "from transformers import AutoModelForSequenceClassification, AutoTokenizer\n",
    "\n",
    "import numpy as np\n",
    "import evaluate\n",
    "from sklearn import metrics"
   ]
  },
  {
   "cell_type": "code",
   "execution_count": 17,
   "id": "099179c4-8961-47f4-8999-707995476c46",
   "metadata": {},
   "outputs": [],
   "source": [
    "device = torch.device('cuda') if torch.cuda.is_available() else torch.device('cpu')\n",
    "\n",
    "model_path = \"../models/roberta-no-priv-epochs_1\"\n",
    "model = AutoModelForSequenceClassification.from_pretrained(model_path).to(device)\n",
    "\n",
    "base_model = \"FacebookAI/roberta-base\"\n",
    "tokenizer = AutoTokenizer.from_pretrained(base_model)"
   ]
  },
  {
   "cell_type": "code",
   "execution_count": 18,
   "id": "9379a993-2795-4d0c-b1e7-420bd594ade7",
   "metadata": {},
   "outputs": [],
   "source": [
    "MAXLEN = 128\n",
    "\n",
    "def tokenize(batch, tokenizer, maxlen=MAXLEN):\n",
    "    tokenized = tokenizer(batch['text'], truncation=True, padding=\"max_length\", max_length=maxlen)    \n",
    "    return {**tokenized}"
   ]
  },
  {
   "cell_type": "code",
   "execution_count": 19,
   "id": "f101ccc3-098d-414c-861d-b0bdf9bde881",
   "metadata": {},
   "outputs": [
    {
     "name": "stderr",
     "output_type": "stream",
     "text": [
      "Loading cached processed dataset at /work/fairness-privacy/twitteraae-sentiment-data-split/validation/cache-5733705bd941f10c_*_of_00003.arrow\n",
      "/home/muh.ali/.conda/envs/fairness-privacy/lib/python3.11/site-packages/datasets/table.py:1407: FutureWarning: promote has been superseded by mode='default'.\n",
      "  table = cls._concat_blocks(blocks, axis=0)\n",
      "Loading cached processed dataset at /work/fairness-privacy/twitteraae-sentiment-data-split/validation/cache-b61fb64ecbaa2dbd.arrow\n",
      "Loading cached processed dataset at /work/fairness-privacy/twitteraae-sentiment-data-split/validation/cache-684c0bb6a74dc08f.arrow\n"
     ]
    },
    {
     "name": "stdout",
     "output_type": "stream",
     "text": [
      "AAE validation points: 10,588\n",
      "SAE validation points: 192,886\n"
     ]
    }
   ],
   "source": [
    "BATCH_SIZE = 64\n",
    "data_path = \"../twitteraae-sentiment-data-split/\"\n",
    "\n",
    "dataset = datasets.load_from_disk(data_path)\n",
    "val_data_all = dataset['validation'].map(tokenize, num_proc=3, batched=True, fn_kwargs={\"tokenizer\": tokenizer}).with_format(\"torch\")\n",
    "val_dataloader = DataLoader(val_data_all, batch_size=BATCH_SIZE, shuffle=False)\n",
    "\n",
    "# separate AAE and SAE\n",
    "val_data_aae = val_data_all.filter(lambda p: p['dialect'] == 'AAE')\n",
    "aae_dataloader = DataLoader(val_data_aae, batch_size=BATCH_SIZE, shuffle=False)\n",
    "print(f\"AAE validation points: {len(aae_dataloader.dataset):,}\")\n",
    "\n",
    "val_data_sae = val_data_all.filter(lambda p: p['dialect'] == 'SAE')\n",
    "sae_dataloader = DataLoader(val_data_sae, batch_size=BATCH_SIZE, shuffle=False)\n",
    "print(f\"SAE validation points: {len(sae_dataloader.dataset):,}\")"
   ]
  },
  {
   "cell_type": "code",
   "execution_count": 32,
   "id": "828747d1-0699-4bbc-9acc-424d27dd2559",
   "metadata": {},
   "outputs": [],
   "source": [
    "def evaluate_accuracy(model, dataloader, batch_size=BATCH_SIZE):\n",
    "    metric = evaluate.load('accuracy')\n",
    "    \n",
    "    model.eval()  # switch to eval mode\n",
    "    print('Evaluating...')\n",
    "    for batch in tqdm(dataloader):\n",
    "        batch_topass = {\n",
    "            'input_ids': batch['input_ids'].to(device),\n",
    "            'attention_mask': batch['attention_mask'].to(device)\n",
    "        }\n",
    "        with torch.no_grad():\n",
    "            outputs = model(**batch_topass)\n",
    "        logits = outputs.logits\n",
    "        predictions = torch.argmax(logits, dim=1)\n",
    "        metric.add_batch(predictions=predictions, references=batch['label'])\n",
    "    \n",
    "    return metric.compute()"
   ]
  },
  {
   "cell_type": "code",
   "execution_count": 27,
   "id": "0c2466ac-3c6a-4ee1-9a48-ce398c1d6581",
   "metadata": {},
   "outputs": [
    {
     "name": "stdout",
     "output_type": "stream",
     "text": [
      "Evaluating...\n"
     ]
    },
    {
     "data": {
      "application/vnd.jupyter.widget-view+json": {
       "model_id": "3ce3aa6f6867467c9ee8535f87de94e5",
       "version_major": 2,
       "version_minor": 0
      },
      "text/plain": [
       "  0%|          | 0/166 [00:00<?, ?it/s]"
      ]
     },
     "metadata": {},
     "output_type": "display_data"
    },
    {
     "name": "stdout",
     "output_type": "stream",
     "text": [
      "Evaluating...\n"
     ]
    },
    {
     "data": {
      "application/vnd.jupyter.widget-view+json": {
       "model_id": "763a01108f8f43db93379b7dabcb257e",
       "version_major": 2,
       "version_minor": 0
      },
      "text/plain": [
       "  0%|          | 0/3014 [00:00<?, ?it/s]"
      ]
     },
     "metadata": {},
     "output_type": "display_data"
    }
   ],
   "source": [
    "aae_accuracy = evaluate_accuracy(model, aae_dataloader)\n",
    "sae_accuracy = evaluate_accuracy(model, sae_dataloader)"
   ]
  },
  {
   "cell_type": "code",
   "execution_count": 33,
   "id": "6774caee-b6c3-497d-9b2c-0ad5d58d0d28",
   "metadata": {},
   "outputs": [
    {
     "name": "stdout",
     "output_type": "stream",
     "text": [
      "Accuracy---SAE: 0.865; AAE: 0.747\n"
     ]
    }
   ],
   "source": [
    "print(f\"Accuracy---SAE: {sae_accuracy['accuracy']:.3}; AAE: {aae_accuracy['accuracy']:.3}\")"
   ]
  },
  {
   "cell_type": "code",
   "execution_count": 34,
   "id": "a9f62355-10a0-4115-9cee-91e84ffd1dbe",
   "metadata": {},
   "outputs": [
    {
     "name": "stdout",
     "output_type": "stream",
     "text": [
      "Evaluating...\n"
     ]
    },
    {
     "data": {
      "application/vnd.jupyter.widget-view+json": {
       "model_id": "a5e3de8e308544c096d9dc169c196ca7",
       "version_major": 2,
       "version_minor": 0
      },
      "text/plain": [
       "  0%|          | 0/3180 [00:00<?, ?it/s]"
      ]
     },
     "metadata": {},
     "output_type": "display_data"
    },
    {
     "name": "stdout",
     "output_type": "stream",
     "text": [
      "Overall accuracy: 0.859\n"
     ]
    }
   ],
   "source": [
    "overall_accuracy = evaluate_accuracy(model, val_dataloader)\n",
    "print(f\"Overall accuracy: {overall_accuracy['accuracy']:.3}\")"
   ]
  },
  {
   "cell_type": "code",
   "execution_count": null,
   "id": "f7731cec-d10b-479e-83bd-08588df9fd3d",
   "metadata": {},
   "outputs": [],
   "source": []
  }
 ],
 "metadata": {
  "kernelspec": {
   "display_name": "Python 3 (ipykernel)",
   "language": "python",
   "name": "python3"
  },
  "language_info": {
   "codemirror_mode": {
    "name": "ipython",
    "version": 3
   },
   "file_extension": ".py",
   "mimetype": "text/x-python",
   "name": "python",
   "nbconvert_exporter": "python",
   "pygments_lexer": "ipython3",
   "version": "3.11.8"
  }
 },
 "nbformat": 4,
 "nbformat_minor": 5
}
